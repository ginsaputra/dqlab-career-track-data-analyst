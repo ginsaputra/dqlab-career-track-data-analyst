{
 "cells": [
  {
   "cell_type": "markdown",
   "metadata": {},
   "source": [
    "# Python for Data Professional Beginner - Part 2"
   ]
  },
  {
   "cell_type": "markdown",
   "metadata": {},
   "source": [
    "## Practice 1: Collection Manipulation with Python\n",
    "Calculating average expenses and income of the last 9 months."
   ]
  },
  {
   "cell_type": "code",
   "execution_count": 1,
   "metadata": {
    "scrolled": true
   },
   "outputs": [
    {
     "name": "stdout",
     "output_type": "stream",
     "text": [
      "Average monthly expenses: Rp2.83 million\n",
      "Average monthly income  : Rp7.90 million\n"
     ]
    }
   ],
   "source": [
    "finance = {\n",
    "'expenses': [2, 2.5, 2.25, 2.5, 3.2, 2.5, 3.5, 4, 3],\n",
    "'income': [7.8, 7.5, 9, 7.6, 7.2, 7.5, 7, 10, 7.5]\n",
    "}  # in million rupiahs\n",
    "\n",
    "# Calculate the totals\n",
    "total_expenses = 0\n",
    "total_income = 0\n",
    "for monthly_expenses in finance['expenses']: \n",
    "    total_expenses += monthly_expenses\n",
    "for monthly_income in finance['income']: \n",
    "    total_income += monthly_income\n",
    "\n",
    "# Calculate the averages\n",
    "avg_expenses = total_expenses / len(finance['expenses'])\n",
    "avg_income = total_income / len(finance['income'])\n",
    "print(\n",
    "    f'Average monthly expenses: Rp{avg_expenses:.2f} million'\n",
    "    f'\\nAverage monthly income  : Rp{avg_income:.2f} million'\n",
    ")"
   ]
  },
  {
   "cell_type": "markdown",
   "metadata": {},
   "source": [
    "## Practice 2: String Manipulation with Python\n",
    "\n",
    "Aksara was asked to study the popularity of *salak* (snake fruit) and *jeruk* (orange) based on articles that were published in the magazine *Buah Sehat* (Healthy Fruits). She also needs to determine how many articles whose titles contain positive connotation about each fruit."
   ]
  },
  {
   "cell_type": "code",
   "execution_count": 2,
   "metadata": {},
   "outputs": [
    {
     "name": "stdout",
     "output_type": "stream",
     "text": [
      "Total articles               : 20\n",
      "Jeruk articles count         : 10\n",
      "Salak articles count         : 10\n",
      "Positive articles about jeruk: 8\n",
      "Positive articles about salak: 9\n"
     ]
    }
   ],
   "source": [
    "articles = [\n",
    "    'Buah Salak Baik untuk Mata',\n",
    "    'Buah Salak Kaya Potasium',\n",
    "    'Buah Jeruk Kaya Vitamin C',\n",
    "    'Buah Salak Kaya Manfaat',\n",
    "    'Salak Baik untuk Jantung',\n",
    "    'Jeruk dapat Memperkuat Tulang',\n",
    "    'Jeruk Mencegah Penyakit Asma',\n",
    "    'Jeruk Memperkuat Gigi',\n",
    "    'Jeruk Mencegah Kolesterol Jahat',\n",
    "    'Salak Mencegah Diabetes',\n",
    "    'Salak Memperkuat Dinding Usus',\n",
    "    'Salak Baik untuk Darah',\n",
    "    'Jeruk Kaya Manfaat untuk Jantung',\n",
    "    'Salak si Kecil yang Baik',\n",
    "    'Jeruk dan Salak Buah Kaya Manfaat',\n",
    "    'Buah Jeruk Enak',\n",
    "    'Tips Panen Jeruk Ribuan Kilo',\n",
    "    'Tips Bertanam Salak',\n",
    "    'Salak Manis untuk Berbuka',\n",
    "    'Jeruk Baik untuk Wajah',\n",
    "]\n",
    "jeruk_articles = 0\n",
    "salak_articles = 0\n",
    "for title in articles:\n",
    "    if title.count('Jeruk') > 0:\n",
    "        jeruk_articles += 1\n",
    "    if title.count('Salak') > 0:\n",
    "        salak_articles += 1\n",
    "\n",
    "positive_words = [\n",
    "    'Kaya', 'Baik', 'Mencegah', 'Memperkuat',\n",
    "]\n",
    "jeruk_positive_articles = 0\n",
    "salak_positive_articles = 0\n",
    "for title in articles:\n",
    "    for word in positive_words:\n",
    "        if title.count('Jeruk') > 0 and title.count(word) > 0: \n",
    "            jeruk_positive_articles += 1\n",
    "        if title.count('Salak') > 0 and title.count(word) > 0:\n",
    "            salak_positive_articles += 1\n",
    "print(\n",
    "    f'Total articles               : {len(articles)}'\n",
    "    f'\\nJeruk articles count         : {jeruk_articles}'\n",
    "    f'\\nSalak articles count         : {jeruk_articles}'\n",
    "    f'\\nPositive articles about jeruk: {jeruk_positive_articles}'\n",
    "    f'\\nPositive articles about salak: {salak_positive_articles}'\n",
    ")"
   ]
  },
  {
   "cell_type": "markdown",
   "metadata": {},
   "source": [
    "## Practice 3: Functions\n",
    "Creating a function to calculate the average and standard deviation of data from a table.\n",
    "\n",
    "|Lot area (m<sup>2</sup>)|House area (m<sup>2</sup>)|Distance to city (km)|Price (Rp, hundred millions)|\n",
    "|-|-|-|-|\n",
    "|70|50|15|500|\n",
    "|70|60|30|400|\n",
    "|70|60|55|300|\n",
    "|100|50|30|700|\n",
    "|100|70|25|1000|\n",
    "|100|70|50|650|\n",
    "|120|100|20|2000|\n",
    "|120|80|50|1200|\n",
    "|150|100|50|1800|\n",
    "|150|90|15|3000|"
   ]
  },
  {
   "cell_type": "code",
   "execution_count": 3,
   "metadata": {},
   "outputs": [
    {
     "name": "stdout",
     "output_type": "stream",
     "text": [
      "Average lot_area: 105.00\n",
      "Standard deviation: 14.93\n",
      "\n",
      "Average house_area: 73.00\n",
      "Standard deviation: 6.03\n",
      "\n",
      "Average city_distance: 34.00\n",
      "Standard deviation: 6.24\n",
      "\n",
      "Average price: 1155.00\n",
      "Standard deviation: 587.06\n",
      "\n"
     ]
    }
   ],
   "source": [
    "# Translate the table into a dictionary\n",
    "property_table = {\n",
    "    'lot_area': [70, 70, 70, 100, 100, 100, 120, 120, 150, 150],\n",
    "    'house_area': [50, 60, 60, 50, 70, 70, 100, 80, 100, 90],\n",
    "    'city_distance': [15, 30, 55, 30, 25, 50, 20, 50, 50, 15],\n",
    "    'price': [500, 400, 300, 700, 1000, 650, 2000, 1200, 1800, 3000]\n",
    "}\n",
    "\n",
    "def calculate_averages(data):\n",
    "    total = 0\n",
    "    for item in data:\n",
    "        total += item\n",
    "    average = total/len(data)\n",
    "    return average\n",
    "\n",
    "def calculate_stdev(data):\n",
    "    data_average = calculate_averages(data)\n",
    "    variance = 0\n",
    "    for item in data:\n",
    "        variance += (item - data_average) ** 2\n",
    "        variance /= len(data)\n",
    "    stdev = variance ** (1/2)\n",
    "    return stdev\n",
    "\n",
    "# Function to calculate average and standard deviation\n",
    "# of each column in the property_table\n",
    "def property_description(table):\n",
    "    for key in table.keys():\n",
    "        print(\n",
    "            f'Average {key}: {calculate_averages(table[key]):.2f}'\n",
    "            f'\\nStandard deviation: {calculate_stdev(table[key]):.2f}\\n'\n",
    "        )\n",
    "\n",
    "property_description(property_table)  # Call the last function"
   ]
  },
  {
   "cell_type": "markdown",
   "metadata": {},
   "source": [
    "## Mini Quiz: Predicting House Prices in Tangerang"
   ]
  },
  {
   "cell_type": "code",
   "execution_count": 4,
   "metadata": {},
   "outputs": [
    {
     "name": "stdout",
     "output_type": "stream",
     "text": [
      "[{'lot_area': '70', 'house_area': '50', 'city_distance': '15', 'price': '500'}, {'lot_area': '70', 'house_area': '60', 'city_distance': '30', 'price': '400'}, {'lot_area': '70', 'house_area': '60', 'city_distance': '55', 'price': '300'}, {'lot_area': '100', 'house_area': '50', 'city_distance': '30', 'price': '700'}, {'lot_area': '100', 'house_area': '70', 'city_distance': '25', 'price': '1000'}, {'lot_area': '100', 'house_area': '70', 'city_distance': '50', 'price': '650'}, {'lot_area': '120', 'house_area': '100', 'city_distance': '20', 'price': '2000'}, {'lot_area': '120', 'house_area': '80', 'city_distance': '50', 'price': '1200'}, {'lot_area': '150', 'house_area': '100', 'city_distance': '50', 'price': '1800'}, {'lot_area': '150', 'house_area': '90', 'city_distance': '15', 'price': '3000'}]\n"
     ]
    }
   ],
   "source": [
    "with open(\"tangerang_house_price.txt\", \"r\") as file:\n",
    "    house_data = file.readlines()\n",
    "\n",
    "house_price = []  # List of dictionaries\n",
    "house_price_keys = house_data[0].replace(\"\\n\",\"\").split(\",\")\n",
    "for line in house_data[1:]:\n",
    "    house_price_line = line.replace(\"\\n\",\"\").split(\",\")\n",
    "    house_price_dict = dict()\n",
    "    for i in range(len(house_price_line)):\n",
    "        house_price_dict[house_price_keys[i]] = house_price_line[i]\n",
    "    house_price.append(house_price_dict)\n",
    "print(house_price)"
   ]
  },
  {
   "cell_type": "code",
   "execution_count": 5,
   "metadata": {},
   "outputs": [],
   "source": [
    "def get_all_specified_attributes(list_of_dict, specified_key):\n",
    "    list_attributes = []\n",
    "    for data in list_of_dict:\n",
    "        attribute = data[specified_key]\n",
    "        list_attributes.append(attribute)\n",
    "    return list_attributes\n",
    "\n",
    "def min_value(list_attributes):\n",
    "    min_attribute = 9999\n",
    "    for attr in list_attributes:\n",
    "        if int(attr) < min_attribute:\n",
    "            min_attribute = int(attr)\n",
    "    return min_attribute\n",
    "\n",
    "def max_value(list_attributes):\n",
    "    max_attribute = -9999\n",
    "    for attr in list_attributes:\n",
    "        if int(attr) > max_attribute:\n",
    "            max_attribute = int(attr)\n",
    "    return max_attribute\n",
    "\n",
    "def transform_attribute(attr, max_attr, min_attr):\n",
    "    transformed_value = (attr - min_attr) / (max_attr - min_attr)\n",
    "    return transformed_value\n",
    "\n",
    "def data_transformation(list_of_dict, list_attribute_names):\n",
    "    attr_info = {}\n",
    "    for attr_name in list_attribute_names:\n",
    "        specified_attributes = get_all_specified_attributes(list_of_dict, attr_name)\n",
    "        max_attr = max_value(specified_attributes)\n",
    "        min_attr = min_value(specified_attributes)\n",
    "        attr_info[attr_name] = {'max': max_attr, 'min': min_attr}\n",
    "        data_idx = 0\n",
    "        while(data_idx < len(list_of_dict)):\n",
    "            list_of_dict[data_idx][attr_name] = transform_attribute(\n",
    "                int(list_of_dict[data_idx][attr_name]), max_attr, min_attr)\n",
    "            data_idx += 1\n",
    "    return list_of_dict, attr_info\n",
    "\n",
    "def transform_data(data, attr_info):\n",
    "    for key_name in data.keys():\n",
    "        data[key_name] = (\n",
    "            data[key_name] - attr_info[key_name]['min']) / (\n",
    "            attr_info[key_name]['max'] - attr_info[key_name]['min'])\n",
    "    return data\n",
    "\n",
    "def abs_value(value):\n",
    "    if value < 0:\n",
    "        return -value\n",
    "    else:\n",
    "        return value\n",
    "\n",
    "def price_based_on_similarity(data, list_of_data):\n",
    "    price_prediction = 0\n",
    "    smallest_difference = 999\n",
    "    for data_point in list_of_data:\n",
    "        difference = abs_value(data['lot_area'] - data_point['lot_area'])\n",
    "        difference += abs_value(data['house_area'] - data_point['house_area'])\n",
    "        difference += abs_value(data['city_distance'] - data_point['city_distance'])\n",
    "        if difference < smallest_difference:\n",
    "            price_prediction = data_point['price']\n",
    "            smallest_difference = difference\n",
    "    return price_prediction"
   ]
  },
  {
   "cell_type": "code",
   "execution_count": 6,
   "metadata": {
    "scrolled": false
   },
   "outputs": [
    {
     "name": "stdout",
     "output_type": "stream",
     "text": [
      "House price prediction (Rp, hundred millions): 1200\n"
     ]
    }
   ],
   "source": [
    "house_price, attr_info = data_transformation(\n",
    "    house_price, ['lot_area', 'house_area', 'city_distance'])\n",
    "\n",
    "data = {\n",
    "    'lot_area': 110,\n",
    "    'house_area': 80,\n",
    "    'city_distance': 35\n",
    "}\n",
    "data = transform_data(data, attr_info)\n",
    "\n",
    "pred_price = price_based_on_similarity(data, house_price)\n",
    "print(f\"House price prediction (Rp, hundred millions): {pred_price}\")"
   ]
  }
 ],
 "metadata": {
  "kernelspec": {
   "display_name": "Python 3",
   "language": "python",
   "name": "python3"
  },
  "language_info": {
   "codemirror_mode": {
    "name": "ipython",
    "version": 3
   },
   "file_extension": ".py",
   "mimetype": "text/x-python",
   "name": "python",
   "nbconvert_exporter": "python",
   "pygments_lexer": "ipython3",
   "version": "3.8.5"
  },
  "toc": {
   "base_numbering": 1,
   "nav_menu": {},
   "number_sections": false,
   "sideBar": true,
   "skip_h1_title": false,
   "title_cell": "Table of Contents",
   "title_sidebar": "Contents",
   "toc_cell": false,
   "toc_position": {},
   "toc_section_display": true,
   "toc_window_display": false
  }
 },
 "nbformat": 4,
 "nbformat_minor": 4
}
