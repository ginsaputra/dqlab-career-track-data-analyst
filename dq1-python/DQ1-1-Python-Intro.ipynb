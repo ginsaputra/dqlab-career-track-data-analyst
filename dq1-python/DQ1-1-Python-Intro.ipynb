{
 "cells": [
  {
   "cell_type": "markdown",
   "metadata": {},
   "source": [
    "# Python for Data Professional Beginner - Part 1\n",
    "\n",
    "## Mini Quiz\n",
    "Aksara is trying to help her uncle's logistics business. Her uncle explains that he spends Rp1.5 million of expenses a day for each car but is having difficulties calculating the total of monthly expenses because the 'odd-even plate policy' in Jakarta requires him to operate different cars every day (on odd days, only vehicles with odd-numbered license plates are allowed on affected roads; on even days, even-numbered plates)."
   ]
  },
  {
   "cell_type": "code",
   "execution_count": 1,
   "metadata": {},
   "outputs": [
    {
     "name": "stdout",
     "output_type": "stream",
     "text": [
      "Num of days           : 31 \n",
      "Odd-numbered plates   : 4 \n",
      "Even-numbered plates  : 3 \n",
      "Daily expenses per car: Rp1500000 \n",
      "Monthly expenses      : Rp163500000\n"
     ]
    }
   ],
   "source": [
    "daily_expenses = 1500000\n",
    "num_of_days = 31\n",
    "plates_list = [\n",
    "    8993, 2198, 2501, 2735,\n",
    "    3772, 4837, 9152,\n",
    "]  # License plates of uncle's cars\n",
    "\n",
    "# Get the sum of even and odd plates\n",
    "even_plates = 0 \n",
    "odd_plates = 0\n",
    "for plate in plates_list:\n",
    "    if plate % 2 == 0:\n",
    "        even_plates += 1\n",
    "    else:\n",
    "        odd_plates += 1\n",
    "\n",
    "# Calculating monthly expenses\n",
    "day = 1  # Start loop from day 1\n",
    "monthly_expenses = 0\n",
    "while day <= num_of_days:\n",
    "    if day % 2 == 0:\n",
    "        monthly_expenses += (daily_expenses * even_plates)\n",
    "    else:\n",
    "        monthly_expenses += (daily_expenses * odd_plates)\n",
    "    day += 1\n",
    "print(\n",
    "    f'Num of days           : {num_of_days}',\n",
    "    f'\\nOdd-numbered plates   : {odd_plates}',\n",
    "    f'\\nEven-numbered plates  : {even_plates}',\n",
    "    f'\\nDaily expenses per car: Rp{daily_expenses}',\n",
    "    f'\\nMonthly expenses      : Rp{monthly_expenses}'\n",
    ")"
   ]
  }
 ],
 "metadata": {
  "kernelspec": {
   "display_name": "Python 3",
   "language": "python",
   "name": "python3"
  },
  "language_info": {
   "codemirror_mode": {
    "name": "ipython",
    "version": 3
   },
   "file_extension": ".py",
   "mimetype": "text/x-python",
   "name": "python",
   "nbconvert_exporter": "python",
   "pygments_lexer": "ipython3",
   "version": "3.8.5"
  },
  "toc": {
   "base_numbering": 1,
   "nav_menu": {},
   "number_sections": false,
   "sideBar": true,
   "skip_h1_title": false,
   "title_cell": "Table of Contents",
   "title_sidebar": "Contents",
   "toc_cell": false,
   "toc_position": {},
   "toc_section_display": true,
   "toc_window_display": false
  }
 },
 "nbformat": 4,
 "nbformat_minor": 4
}
